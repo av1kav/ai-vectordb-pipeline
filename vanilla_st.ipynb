{
 "cells": [
  {
   "cell_type": "code",
   "execution_count": 3,
   "metadata": {},
   "outputs": [
    {
     "name": "stdout",
     "output_type": "stream",
     "text": [
      "Context: \n",
      "            company_name: XYZ Inc.\n",
      "            datapoint_type: location\n",
      "            datapoint_value: 3288 Main St. Buffalo NY\n",
      "            source_excerpts: visit our website.\n",
      "Question: What company located in Buffalo sells gas line parts?\n"
     ]
    }
   ],
   "source": [
    "from transformers import AutoTokenizer, AutoModel\n",
    "from sentence_transformers import SentenceTransformer\n",
    "import faiss\n",
    "\n",
    "# Load embedding model\n",
    "embed_model = SentenceTransformer('all-MiniLM-L6-v2')\n",
    "\n",
    "# Step 1: Create embeddings\n",
    "\n",
    "documents = [\"\"\"\n",
    "            company_name: Pii Holdings, Inc.\n",
    "            datapoint_type: product\n",
    "            datapoint_value: gas pipe fixtures\n",
    "            source_excerpts: we do gas pipes on a daily basis.\"\"\",\n",
    "            \"\"\"\n",
    "            company_name: XYZ Inc.\n",
    "            datapoint_type: location\n",
    "            datapoint_value: 3288 Main St. Buffalo NY\n",
    "            source_excerpts: visit our website.\"\"\",\n",
    "            \"\"\"\n",
    "            company_name: Pii Holdings, Inc.\n",
    "            datapoint_type: location\n",
    "            datapoint_value: 2150 Elmwood Avenue Buffalo, NY\n",
    "            source_excerpts: they also have a division that designs and installs racks for solar panels.\"\"\",\n",
    "            \"\"\"\n",
    "            company_name: Pii Holdings, Inc.\n",
    "            datapoint_type: location\n",
    "            datapoint_value: 2150 Elmwood Avenue Buffalo, NY\n",
    "            source_excerpts: they also have a division that designs and installs racks for solar panels.\"\"\",\n",
    "            \"\"\"\n",
    "            company_name: XYZ Inc.\n",
    "            datapoint_type: product\n",
    "            datapoint_value: 3D printing\"\"\"\n",
    "]\n",
    "doc_embeddings = embed_model.encode(documents)\n",
    "\n",
    "# Step 2: Store embeddings in FAISS\n",
    "index = faiss.IndexFlatL2(doc_embeddings.shape[1])\n",
    "index.add(doc_embeddings)\n",
    "\n",
    "# Step 3: Query the database\n",
    "query = \"What company located in Buffalo sells gas line parts?\"\n",
    "query_embedding = embed_model.encode([query])\n",
    "_, result_indices = index.search(query_embedding, k=1)\n",
    "\n",
    "# Step 4: Retrieve and use the chunk\n",
    "retrieved_chunk = documents[result_indices[0][0]]\n",
    "\n",
    "# Use the retrieved chunk as context\n",
    "input_text = f\"Context: {retrieved_chunk}\\nQuestion: {query}\"\n",
    "\n",
    "print(input_text)\n"
   ]
  }
 ],
 "metadata": {
  "kernelspec": {
   "display_name": ".venv",
   "language": "python",
   "name": "python3"
  },
  "language_info": {
   "codemirror_mode": {
    "name": "ipython",
    "version": 3
   },
   "file_extension": ".py",
   "mimetype": "text/x-python",
   "name": "python",
   "nbconvert_exporter": "python",
   "pygments_lexer": "ipython3",
   "version": "3.9.6"
  }
 },
 "nbformat": 4,
 "nbformat_minor": 2
}
